{
 "cells": [
  {
   "cell_type": "markdown",
   "id": "0d45fbda-7221-4310-a485-4abfe363c75f",
   "metadata": {},
   "source": [
    "<h1>My Jupyter Notebook on IBM Watson Studio<h1>"
   ]
  },
  {
   "cell_type": "markdown",
   "id": "422c66fe-da72-4d8f-be00-3303fcea33a0",
   "metadata": {},
   "source": [
    "**Murali Krishna Mallam**\n",
    "Data Scientist"
   ]
  },
  {
   "cell_type": "markdown",
   "id": "14e86ad4-e2b9-46b7-bb78-dc3e22ef04d0",
   "metadata": {},
   "source": [
    "*I'm interested in data science because I liked to do data analyis and interpretation*"
   ]
  },
  {
   "cell_type": "markdown",
   "id": "b82138ff-f9e5-4cd1-af4b-ba543c21c142",
   "metadata": {},
   "source": [
    "<h3>Print all even numbers in between 10 to 20<h3>"
   ]
  },
  {
   "cell_type": "code",
   "execution_count": 18,
   "id": "fbfb9347-6df8-450e-bc21-7befc6a934ab",
   "metadata": {},
   "outputs": [
    {
     "name": "stdout",
     "output_type": "stream",
     "text": [
      "10\n",
      "12\n",
      "14\n",
      "16\n",
      "18\n"
     ]
    }
   ],
   "source": [
    "for X in range(10,20):\n",
    "    if X % 2 == 0:\n",
    "        print(X)\n",
    " "
   ]
  },
  {
   "cell_type": "markdown",
   "id": "7be1ed02-2733-42a1-a2aa-e69c3aa8b295",
   "metadata": {},
   "source": [
    "###This is the numbered format\n",
    "1. I\n",
    "2. Want to learn\n",
    "3. Data science\n",
    "\n",
    "###Hyperlink\n",
    "[Course Link](https://www.coursera.org/professional-certificates/ibm-data-science)\n",
    "\n",
    "###Bulletlist\n",
    "* Apple\n",
    "* Banana\n",
    "* Orange\n"
   ]
  },
  {
   "cell_type": "code",
   "execution_count": null,
   "id": "c703c933-e9ff-48ba-a1ca-08fbdb5a9824",
   "metadata": {},
   "outputs": [],
   "source": []
  }
 ],
 "metadata": {
  "kernelspec": {
   "display_name": "Python",
   "language": "python",
   "name": "conda-env-python-py"
  },
  "language_info": {
   "codemirror_mode": {
    "name": "ipython",
    "version": 3
   },
   "file_extension": ".py",
   "mimetype": "text/x-python",
   "name": "python",
   "nbconvert_exporter": "python",
   "pygments_lexer": "ipython3",
   "version": "3.7.12"
  }
 },
 "nbformat": 4,
 "nbformat_minor": 5
}
